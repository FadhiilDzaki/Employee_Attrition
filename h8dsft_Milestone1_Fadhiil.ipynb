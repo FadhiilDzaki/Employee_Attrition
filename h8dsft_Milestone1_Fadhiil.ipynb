{
 "cells": [
  {
   "cell_type": "markdown",
   "metadata": {},
   "source": [
    "\n",
    "___\n",
    "Milestones 1\n",
    "\n",
    "Nama  : Fadhiil Dzaki Mulyana<br>\n",
    "Batch : HCK-021\n",
    "\n",
    "Notebook ini dibuat untuk melakukan analisis terhadap Employee Attrition. Hasil Analisis tersebut ditujukan kepada tim HR guna menyusun strategi untuk mengurangi Attrition.\n",
    "___"
   ]
  },
  {
   "cell_type": "markdown",
   "metadata": {},
   "source": [
    "# Tableau\n",
    "\n",
    "https://public.tableau.com/app/profile/fadhiil.dzaki.mulyana/viz/tablue_fadhiil/AttritionAnalysis"
   ]
  },
  {
   "cell_type": "markdown",
   "metadata": {},
   "source": [
    "# Library & function"
   ]
  },
  {
   "cell_type": "code",
   "execution_count": 2,
   "metadata": {},
   "outputs": [],
   "source": [
    "# pengolahan data\n",
    "import pandas as pd\n",
    "import numpy as np\n",
    "\n",
    "# visualisasi\n",
    "import seaborn as sns\n",
    "import matplotlib.pyplot as plt\n",
    "import plotly.express as px\n",
    "\n",
    "# statistik\n",
    "from scipy.stats import chi2_contingency\n",
    "\n",
    "\n",
    "import warnings\n",
    "warnings.filterwarnings('ignore')"
   ]
  },
  {
   "cell_type": "code",
   "execution_count": 3,
   "metadata": {},
   "outputs": [],
   "source": [
    "# fungsi crosstab\n",
    "def crosstable(df,a,b):\n",
    "    '''\n",
    "    fungsi ini digunakan untuk membuat cross tabulation dari 2 variable berbeda\n",
    "\n",
    "    argumen:\n",
    "    df = dataframe yang digunakan\n",
    "    a = variable yang ingin dibandingkan\n",
    "    b = variable pembanding\n",
    "\n",
    "    output:\n",
    "    cross table\n",
    "    '''\n",
    "    # cross tabulation\n",
    "    chi_tab = pd.crosstab(df[a], df[b])\n",
    "    # mengembalikan chi_tab\n",
    "    return chi_tab\n",
    "\n",
    "# fungsi chi2_contigency\n",
    "def chi2square(df,a,b):\n",
    "    '''\n",
    "    fungsi ini digunakan untuk melakukan perhitungan statistika chisquared\n",
    "\n",
    "    argumen:\n",
    "    df = dataframe yang digunakan\n",
    "    a = variable yang ingin dibandingkan\n",
    "    b = variable pembanding\n",
    "\n",
    "    Output:\n",
    "    chi-squared statistic, p-value, degrees of freedom, expected frequencies\n",
    "    '''\n",
    "    # chi2 calculation\n",
    "    chi2, p_value, dof, expected = chi2_contingency(crosstable(df,a,b))\n",
    "    # mengembalikan nilia nilai hasil kalkulasi\n",
    "    return chi2, p_value, dof, expected"
   ]
  },
  {
   "cell_type": "markdown",
   "metadata": {},
   "source": [
    "# A. Identifikasi Masalah"
   ]
  },
  {
   "cell_type": "markdown",
   "metadata": {},
   "source": [
    "## Background\n"
   ]
  },
  {
   "cell_type": "markdown",
   "metadata": {},
   "source": [
    "PT. INDO Performance yang bergerak dibidang industri kesehatan sedang mengalami masalah turnover. Perusahaan tersebut ingin mengurangi angka turnover tersebut."
   ]
  },
  {
   "cell_type": "markdown",
   "metadata": {},
   "source": [
    "## Problem Statement"
   ]
  },
  {
   "cell_type": "markdown",
   "metadata": {},
   "source": [
    "### SMART Framework"
   ]
  },
  {
   "cell_type": "markdown",
   "metadata": {},
   "source": [
    "**(S)** : Mengurangi turnover karyawan PT INDO Performance.\n",
    "\n",
    "**(M)** : Turnover berkurang sebanyak 6%.\n",
    "\n",
    "**(A)** : penyesuaian gaji dan insentif, peningkatan budaya kerja, Perbaikan sistem rekrutmen, program pengembangan karir dan engagement karyawan.\n",
    "\n",
    "**(R)** : mengurangi biaya operasional, meningkatkan loyalitas karyawan, meningkatkan citra perusahaan, menjaga produktivitas dan mental tim.\n",
    "\n",
    "**(T)** : tercapai dalam 12 bulan kedepan"
   ]
  },
  {
   "cell_type": "markdown",
   "metadata": {},
   "source": [
    "### Problem Statement"
   ]
  },
  {
   "cell_type": "markdown",
   "metadata": {},
   "source": [
    "Mengurangi persentase turnoversebanyak 6% dalam waktu 12 bulan. Hal tersebut dapat dicapai dengan exploratory data analysis untuk mendapatkan faktor-faktor penyebab turnover, visualisasi data untuk melihat pola dan menarik kesimpulan dan rekomendasi dari insight-insight yang didapatkan. Pemahaman yang baik mengenai faktor-faktor turnover akan membantu dalam pengambilan keputusan untuk meningkatkan retensi karyawan sekaligus  mengurangi biaya operasional, meningkatkan loyalitas karyawan, meningkatkan citra perusahaan, menjaga produktivitas dan mental tim.\n"
   ]
  },
  {
   "cell_type": "markdown",
   "metadata": {},
   "source": [
    "### Problem Breakdown"
   ]
  },
  {
   "cell_type": "markdown",
   "metadata": {},
   "source": [
    "**5W+1H**:\n",
    "\n",
    "1. berapa Rata-rata Attrition?\n",
    "2. Apakah Environment Satisfaction Berpengaruh Terhadap Attrition?\n",
    "3. Bagaimana Pengaruh Environment Satisfaction Terhadap Attrition?\n",
    "4. Apakah Job Satisfaction Berpengaruh Terhadap Attrition?\n",
    "5. Bagaimana Pengaruh Job Satisfaction Terhadap Attrition?\n",
    "6. Apakah Relationship Satisfaction Berpengaruh Terhadap Attrition?\n",
    "7. Bagaimana Pengaruh Relationship Satisfaction Terhadap Attrition?\n",
    "8. Apakah Work-Life Balance Berpengaruh Terhadap Attrition?\n",
    "9. Bagaimana Pengaruh Work-Life Balance Terhadap Attrition?\n",
    "10. Bagaimana Pengaruh Lama Bekerja di Perusahaan terhadap Attrition"
   ]
  },
  {
   "cell_type": "markdown",
   "metadata": {},
   "source": [
    "# Data Loading"
   ]
  },
  {
   "cell_type": "markdown",
   "metadata": {},
   "source": [
    "## Data Understanding"
   ]
  },
  {
   "cell_type": "markdown",
   "metadata": {},
   "source": [
    "**Dataset Source** : https://www.kaggle.com/datasets/thedevastator/employee-attrition-and-factors/data\n",
    "\n",
    "**About Dataset:**<br>\n",
    "Dataset ini berisi analisis komprehensif dan diversifikasi mengenai karyawan organisasi, meliputi faktor-faktor seperti atrisi karyawan, faktor pribadi dan pekerjaan, keuangan, dan parameter-parameter lainnya seperti usia, jenis kelamin, dan status perkawinan.\n",
    "\n",
    "**Columns**:\n",
    "Column name                                         |Description\n",
    "----------------------------------------------------|-------------------------------------------------------------------------\n",
    "Age                                                 |The age of the employee. (Numerical)\n",
    "Attrition                                           |Whether or not the employee has left the organization. (Categorical)\n",
    "BusinessTravel                                      |The frequency of business travel for the employee. (Categorical)\n",
    "DailyRate                                           |The daily rate of pay for the employee. (Numerical)\n",
    "Department                                          |The department the employee works in. (Categorical)\n",
    "DistanceFromHome                                    |The distance from home in miles for the employee. (Numerical)\n",
    "Education                                           |The level of education achieved by the employee. (Categorical)\n",
    "EducationField                                      |The field of study for the employee's education. (Categorical)\n",
    "EmployeeCount                                       |The total number of employees in the organization. (Numerical)\n",
    "`EmployeeNumber`                                    |A unique identifier for each employee profile. (Numerical)\n",
    "EnvironmentSatisfaction                             |The employee's satisfaction with their work environment 1-4. (Categorical)\n",
    "Gender                                              |The gender of the employee. (Categorical)\n",
    "HourlyRate                                          |The hourly rate of pay for the employee. (Numerical)\n",
    "JobInvolvement                                      |The level of involvement required for the employee's job 1-4. (Categorical)\n",
    "JobLevel                                            |The job level of the employee. (Categorical)\n",
    "JobRole                                             |The role of the employee in the organization. (Categorical)\n",
    "JobSatisfaction                                     |The employee's satisfaction with their job 1-4. (Categorical)\n",
    "MaritalStatus                                       |The marital status of the employee. (Categorical)\n",
    "MonthlyIncome                                       |The monthly income of the employee. (Numerical)\n",
    "MonthlyRate                                         |The monthly rate of pay for the employee. (Numerical)\n",
    "NumCompaniesWorked                                  |The number of companies the employee has worked for. (Numerical)\n",
    "Over18                                              |Whether or not the employee is over 18. (Categorical)\n",
    "OverTime                                            |Whether or not the employee works overtime. (Categorical)\n",
    "PercentSalaryHike                                   |The percentage of salary hike for the employee. (Numerical)\n",
    "PerformanceRating\t                                |The performance rating of the employee. (Categorical)\n",
    "RelationshipSatisfaction                            |The employee's satisfaction with their relationships 1-4. (Categorical)\n",
    "StandardHours                                       |The standard hours of work for the employee. (Numerical)\n",
    "StockOptionLevel                                    |The stock option level of the employee. (Categorical)\n",
    "TotalWorkingYears                                   |The total number of years the employee has worked. (Numerical)\n",
    "TrainingTimesLastYear                               |The number of times the employee was taken for training in the last year. (Numerical)\n",
    "WorkLifeBalance                                     |The employee's perception of their work-life balance 1-4. (Categorical)\n",
    "YearsAtCompany                                      |The number of years the employee has been with the company. (Numerical)\n",
    "YearsInCurrentRole                                  |The number of years the employee has been in their current role. (Numerical)\n",
    "YearsSinceLastPromotion                             |The number of years since the employee's last promotion. (Numerical)\n",
    "YearsWithCurrManager                                |The number of years the employee has been with their current manager. (Numerical)"
   ]
  },
  {
   "cell_type": "code",
   "execution_count": 4,
   "metadata": {},
   "outputs": [
    {
     "data": {
      "text/html": [
       "<div>\n",
       "<style scoped>\n",
       "    .dataframe tbody tr th:only-of-type {\n",
       "        vertical-align: middle;\n",
       "    }\n",
       "\n",
       "    .dataframe tbody tr th {\n",
       "        vertical-align: top;\n",
       "    }\n",
       "\n",
       "    .dataframe thead th {\n",
       "        text-align: right;\n",
       "    }\n",
       "</style>\n",
       "<table border=\"1\" class=\"dataframe\">\n",
       "  <thead>\n",
       "    <tr style=\"text-align: right;\">\n",
       "      <th></th>\n",
       "      <th>Age</th>\n",
       "      <th>Attrition</th>\n",
       "      <th>BusinessTravel</th>\n",
       "      <th>DailyRate</th>\n",
       "      <th>Department</th>\n",
       "      <th>DistanceFromHome</th>\n",
       "      <th>Education</th>\n",
       "      <th>EducationField</th>\n",
       "      <th>EmployeeCount</th>\n",
       "      <th>EmployeeNumber</th>\n",
       "      <th>EnvironmentSatisfaction</th>\n",
       "      <th>Gender</th>\n",
       "      <th>HourlyRate</th>\n",
       "      <th>JobInvolvement</th>\n",
       "      <th>JobLevel</th>\n",
       "      <th>JobRole</th>\n",
       "      <th>JobSatisfaction</th>\n",
       "      <th>MaritalStatus</th>\n",
       "      <th>MonthlyIncome</th>\n",
       "      <th>MonthlyRate</th>\n",
       "      <th>NumCompaniesWorked</th>\n",
       "      <th>Over18</th>\n",
       "      <th>OverTime</th>\n",
       "      <th>PercentSalaryHike</th>\n",
       "      <th>PerformanceRating</th>\n",
       "      <th>RelationshipSatisfaction</th>\n",
       "      <th>StandardHours</th>\n",
       "      <th>StockOptionLevel</th>\n",
       "      <th>TotalWorkingYears</th>\n",
       "      <th>TrainingTimesLastYear</th>\n",
       "      <th>WorkLifeBalance</th>\n",
       "      <th>YearsAtCompany</th>\n",
       "      <th>YearsInCurrentRole</th>\n",
       "      <th>YearsSinceLastPromotion</th>\n",
       "      <th>YearsWithCurrManager</th>\n",
       "    </tr>\n",
       "  </thead>\n",
       "  <tbody>\n",
       "    <tr>\n",
       "      <th>907</th>\n",
       "      <td>44</td>\n",
       "      <td>No</td>\n",
       "      <td>Travel_Rarely</td>\n",
       "      <td>1099</td>\n",
       "      <td>Sales</td>\n",
       "      <td>5</td>\n",
       "      <td>3</td>\n",
       "      <td>Marketing</td>\n",
       "      <td>1</td>\n",
       "      <td>1267</td>\n",
       "      <td>2</td>\n",
       "      <td>Male</td>\n",
       "      <td>88</td>\n",
       "      <td>3</td>\n",
       "      <td>5</td>\n",
       "      <td>Manager</td>\n",
       "      <td>2</td>\n",
       "      <td>Married</td>\n",
       "      <td>18213</td>\n",
       "      <td>8751</td>\n",
       "      <td>7</td>\n",
       "      <td>Y</td>\n",
       "      <td>No</td>\n",
       "      <td>11</td>\n",
       "      <td>3</td>\n",
       "      <td>3</td>\n",
       "      <td>80</td>\n",
       "      <td>1</td>\n",
       "      <td>26</td>\n",
       "      <td>5</td>\n",
       "      <td>3</td>\n",
       "      <td>22</td>\n",
       "      <td>9</td>\n",
       "      <td>3</td>\n",
       "      <td>10</td>\n",
       "    </tr>\n",
       "    <tr>\n",
       "      <th>67</th>\n",
       "      <td>45</td>\n",
       "      <td>No</td>\n",
       "      <td>Travel_Rarely</td>\n",
       "      <td>1339</td>\n",
       "      <td>Research &amp; Development</td>\n",
       "      <td>7</td>\n",
       "      <td>3</td>\n",
       "      <td>Life Sciences</td>\n",
       "      <td>1</td>\n",
       "      <td>86</td>\n",
       "      <td>2</td>\n",
       "      <td>Male</td>\n",
       "      <td>59</td>\n",
       "      <td>3</td>\n",
       "      <td>3</td>\n",
       "      <td>Research Scientist</td>\n",
       "      <td>1</td>\n",
       "      <td>Divorced</td>\n",
       "      <td>9724</td>\n",
       "      <td>18787</td>\n",
       "      <td>2</td>\n",
       "      <td>Y</td>\n",
       "      <td>No</td>\n",
       "      <td>17</td>\n",
       "      <td>3</td>\n",
       "      <td>3</td>\n",
       "      <td>80</td>\n",
       "      <td>1</td>\n",
       "      <td>25</td>\n",
       "      <td>2</td>\n",
       "      <td>3</td>\n",
       "      <td>1</td>\n",
       "      <td>0</td>\n",
       "      <td>0</td>\n",
       "      <td>0</td>\n",
       "    </tr>\n",
       "    <tr>\n",
       "      <th>731</th>\n",
       "      <td>20</td>\n",
       "      <td>Yes</td>\n",
       "      <td>Travel_Rarely</td>\n",
       "      <td>1097</td>\n",
       "      <td>Research &amp; Development</td>\n",
       "      <td>11</td>\n",
       "      <td>3</td>\n",
       "      <td>Medical</td>\n",
       "      <td>1</td>\n",
       "      <td>1016</td>\n",
       "      <td>4</td>\n",
       "      <td>Female</td>\n",
       "      <td>98</td>\n",
       "      <td>2</td>\n",
       "      <td>1</td>\n",
       "      <td>Research Scientist</td>\n",
       "      <td>1</td>\n",
       "      <td>Single</td>\n",
       "      <td>2600</td>\n",
       "      <td>18275</td>\n",
       "      <td>1</td>\n",
       "      <td>Y</td>\n",
       "      <td>Yes</td>\n",
       "      <td>15</td>\n",
       "      <td>3</td>\n",
       "      <td>1</td>\n",
       "      <td>80</td>\n",
       "      <td>0</td>\n",
       "      <td>1</td>\n",
       "      <td>2</td>\n",
       "      <td>3</td>\n",
       "      <td>1</td>\n",
       "      <td>0</td>\n",
       "      <td>0</td>\n",
       "      <td>0</td>\n",
       "    </tr>\n",
       "    <tr>\n",
       "      <th>1125</th>\n",
       "      <td>29</td>\n",
       "      <td>No</td>\n",
       "      <td>Travel_Frequently</td>\n",
       "      <td>995</td>\n",
       "      <td>Research &amp; Development</td>\n",
       "      <td>2</td>\n",
       "      <td>1</td>\n",
       "      <td>Life Sciences</td>\n",
       "      <td>1</td>\n",
       "      <td>1590</td>\n",
       "      <td>1</td>\n",
       "      <td>Male</td>\n",
       "      <td>87</td>\n",
       "      <td>3</td>\n",
       "      <td>2</td>\n",
       "      <td>Healthcare Representative</td>\n",
       "      <td>4</td>\n",
       "      <td>Divorced</td>\n",
       "      <td>8853</td>\n",
       "      <td>24483</td>\n",
       "      <td>1</td>\n",
       "      <td>Y</td>\n",
       "      <td>No</td>\n",
       "      <td>19</td>\n",
       "      <td>3</td>\n",
       "      <td>4</td>\n",
       "      <td>80</td>\n",
       "      <td>1</td>\n",
       "      <td>6</td>\n",
       "      <td>0</td>\n",
       "      <td>4</td>\n",
       "      <td>6</td>\n",
       "      <td>4</td>\n",
       "      <td>1</td>\n",
       "      <td>3</td>\n",
       "    </tr>\n",
       "    <tr>\n",
       "      <th>575</th>\n",
       "      <td>54</td>\n",
       "      <td>No</td>\n",
       "      <td>Travel_Rarely</td>\n",
       "      <td>376</td>\n",
       "      <td>Research &amp; Development</td>\n",
       "      <td>19</td>\n",
       "      <td>4</td>\n",
       "      <td>Medical</td>\n",
       "      <td>1</td>\n",
       "      <td>799</td>\n",
       "      <td>4</td>\n",
       "      <td>Female</td>\n",
       "      <td>95</td>\n",
       "      <td>3</td>\n",
       "      <td>2</td>\n",
       "      <td>Manufacturing Director</td>\n",
       "      <td>1</td>\n",
       "      <td>Divorced</td>\n",
       "      <td>5485</td>\n",
       "      <td>22670</td>\n",
       "      <td>9</td>\n",
       "      <td>Y</td>\n",
       "      <td>Yes</td>\n",
       "      <td>11</td>\n",
       "      <td>3</td>\n",
       "      <td>2</td>\n",
       "      <td>80</td>\n",
       "      <td>2</td>\n",
       "      <td>9</td>\n",
       "      <td>4</td>\n",
       "      <td>3</td>\n",
       "      <td>5</td>\n",
       "      <td>3</td>\n",
       "      <td>1</td>\n",
       "      <td>4</td>\n",
       "    </tr>\n",
       "  </tbody>\n",
       "</table>\n",
       "</div>"
      ],
      "text/plain": [
       "      Age Attrition     BusinessTravel  DailyRate              Department  \\\n",
       "907    44        No      Travel_Rarely       1099                   Sales   \n",
       "67     45        No      Travel_Rarely       1339  Research & Development   \n",
       "731    20       Yes      Travel_Rarely       1097  Research & Development   \n",
       "1125   29        No  Travel_Frequently        995  Research & Development   \n",
       "575    54        No      Travel_Rarely        376  Research & Development   \n",
       "\n",
       "      DistanceFromHome  Education EducationField  EmployeeCount  \\\n",
       "907                  5          3      Marketing              1   \n",
       "67                   7          3  Life Sciences              1   \n",
       "731                 11          3        Medical              1   \n",
       "1125                 2          1  Life Sciences              1   \n",
       "575                 19          4        Medical              1   \n",
       "\n",
       "      EmployeeNumber  EnvironmentSatisfaction  Gender  HourlyRate  \\\n",
       "907             1267                        2    Male          88   \n",
       "67                86                        2    Male          59   \n",
       "731             1016                        4  Female          98   \n",
       "1125            1590                        1    Male          87   \n",
       "575              799                        4  Female          95   \n",
       "\n",
       "      JobInvolvement  JobLevel                    JobRole  JobSatisfaction  \\\n",
       "907                3         5                    Manager                2   \n",
       "67                 3         3         Research Scientist                1   \n",
       "731                2         1         Research Scientist                1   \n",
       "1125               3         2  Healthcare Representative                4   \n",
       "575                3         2     Manufacturing Director                1   \n",
       "\n",
       "     MaritalStatus  MonthlyIncome  MonthlyRate  NumCompaniesWorked Over18  \\\n",
       "907        Married          18213         8751                   7      Y   \n",
       "67        Divorced           9724        18787                   2      Y   \n",
       "731         Single           2600        18275                   1      Y   \n",
       "1125      Divorced           8853        24483                   1      Y   \n",
       "575       Divorced           5485        22670                   9      Y   \n",
       "\n",
       "     OverTime  PercentSalaryHike  PerformanceRating  RelationshipSatisfaction  \\\n",
       "907        No                 11                  3                         3   \n",
       "67         No                 17                  3                         3   \n",
       "731       Yes                 15                  3                         1   \n",
       "1125       No                 19                  3                         4   \n",
       "575       Yes                 11                  3                         2   \n",
       "\n",
       "      StandardHours  StockOptionLevel  TotalWorkingYears  \\\n",
       "907              80                 1                 26   \n",
       "67               80                 1                 25   \n",
       "731              80                 0                  1   \n",
       "1125             80                 1                  6   \n",
       "575              80                 2                  9   \n",
       "\n",
       "      TrainingTimesLastYear  WorkLifeBalance  YearsAtCompany  \\\n",
       "907                       5                3              22   \n",
       "67                        2                3               1   \n",
       "731                       2                3               1   \n",
       "1125                      0                4               6   \n",
       "575                       4                3               5   \n",
       "\n",
       "      YearsInCurrentRole  YearsSinceLastPromotion  YearsWithCurrManager  \n",
       "907                    9                        3                    10  \n",
       "67                     0                        0                     0  \n",
       "731                    0                        0                     0  \n",
       "1125                   4                        1                     3  \n",
       "575                    3                        1                     4  "
      ]
     },
     "execution_count": 4,
     "metadata": {},
     "output_type": "execute_result"
    }
   ],
   "source": [
    "# tampilkan seluruh kolom\n",
    "pd.set_option('display.max_columns', None)\n",
    "\n",
    "# Load dataset\n",
    "df_ori = pd.read_csv(\"HR_Analytics.csv\")\n",
    "\n",
    "# 5 baris acak\n",
    "df_ori.sample(5)"
   ]
  },
  {
   "cell_type": "code",
   "execution_count": 5,
   "metadata": {},
   "outputs": [],
   "source": [
    "# Checkpoint\n",
    "df = df_ori.copy()"
   ]
  },
  {
   "cell_type": "markdown",
   "metadata": {},
   "source": [
    "## Data Overview"
   ]
  },
  {
   "cell_type": "code",
   "execution_count": 6,
   "metadata": {},
   "outputs": [
    {
     "name": "stdout",
     "output_type": "stream",
     "text": [
      "<class 'pandas.core.frame.DataFrame'>\n",
      "RangeIndex: 1470 entries, 0 to 1469\n",
      "Data columns (total 35 columns):\n",
      " #   Column                    Non-Null Count  Dtype \n",
      "---  ------                    --------------  ----- \n",
      " 0   Age                       1470 non-null   int64 \n",
      " 1   Attrition                 1470 non-null   object\n",
      " 2   BusinessTravel            1470 non-null   object\n",
      " 3   DailyRate                 1470 non-null   int64 \n",
      " 4   Department                1470 non-null   object\n",
      " 5   DistanceFromHome          1470 non-null   int64 \n",
      " 6   Education                 1470 non-null   int64 \n",
      " 7   EducationField            1470 non-null   object\n",
      " 8   EmployeeCount             1470 non-null   int64 \n",
      " 9   EmployeeNumber            1470 non-null   int64 \n",
      " 10  EnvironmentSatisfaction   1470 non-null   int64 \n",
      " 11  Gender                    1470 non-null   object\n",
      " 12  HourlyRate                1470 non-null   int64 \n",
      " 13  JobInvolvement            1470 non-null   int64 \n",
      " 14  JobLevel                  1470 non-null   int64 \n",
      " 15  JobRole                   1470 non-null   object\n",
      " 16  JobSatisfaction           1470 non-null   int64 \n",
      " 17  MaritalStatus             1470 non-null   object\n",
      " 18  MonthlyIncome             1470 non-null   int64 \n",
      " 19  MonthlyRate               1470 non-null   int64 \n",
      " 20  NumCompaniesWorked        1470 non-null   int64 \n",
      " 21  Over18                    1470 non-null   object\n",
      " 22  OverTime                  1470 non-null   object\n",
      " 23  PercentSalaryHike         1470 non-null   int64 \n",
      " 24  PerformanceRating         1470 non-null   int64 \n",
      " 25  RelationshipSatisfaction  1470 non-null   int64 \n",
      " 26  StandardHours             1470 non-null   int64 \n",
      " 27  StockOptionLevel          1470 non-null   int64 \n",
      " 28  TotalWorkingYears         1470 non-null   int64 \n",
      " 29  TrainingTimesLastYear     1470 non-null   int64 \n",
      " 30  WorkLifeBalance           1470 non-null   int64 \n",
      " 31  YearsAtCompany            1470 non-null   int64 \n",
      " 32  YearsInCurrentRole        1470 non-null   int64 \n",
      " 33  YearsSinceLastPromotion   1470 non-null   int64 \n",
      " 34  YearsWithCurrManager      1470 non-null   int64 \n",
      "dtypes: int64(26), object(9)\n",
      "memory usage: 402.1+ KB\n",
      "\n",
      "missing values: 0.0% \n",
      "Series([], dtype: int64)\n",
      "\n",
      "duplicated values: 0.0% \n",
      "0\n",
      "\n",
      "Age -#nunique:  43\n",
      "Attrition -#nunique:  2\n",
      "BusinessTravel -#nunique:  3\n",
      "DailyRate -#nunique:  886\n",
      "Department -#nunique:  3\n",
      "DistanceFromHome -#nunique:  29\n",
      "Education -#nunique:  5\n",
      "EducationField -#nunique:  6\n",
      "EmployeeCount -#nunique:  1\n",
      "EmployeeNumber -#nunique:  1470\n",
      "EnvironmentSatisfaction -#nunique:  4\n",
      "Gender -#nunique:  2\n",
      "HourlyRate -#nunique:  71\n",
      "JobInvolvement -#nunique:  4\n",
      "JobLevel -#nunique:  5\n",
      "JobRole -#nunique:  9\n",
      "JobSatisfaction -#nunique:  4\n",
      "MaritalStatus -#nunique:  3\n",
      "MonthlyIncome -#nunique:  1349\n",
      "MonthlyRate -#nunique:  1427\n",
      "NumCompaniesWorked -#nunique:  10\n",
      "Over18 -#nunique:  1\n",
      "OverTime -#nunique:  2\n",
      "PercentSalaryHike -#nunique:  15\n",
      "PerformanceRating -#nunique:  2\n",
      "RelationshipSatisfaction -#nunique:  4\n",
      "StandardHours -#nunique:  1\n",
      "StockOptionLevel -#nunique:  4\n",
      "TotalWorkingYears -#nunique:  40\n",
      "TrainingTimesLastYear -#nunique:  7\n",
      "WorkLifeBalance -#nunique:  4\n",
      "YearsAtCompany -#nunique:  37\n",
      "YearsInCurrentRole -#nunique:  19\n",
      "YearsSinceLastPromotion -#nunique:  16\n",
      "YearsWithCurrManager -#nunique:  18\n"
     ]
    }
   ],
   "source": [
    "# df overview\n",
    "df.info()\n",
    "\n",
    "# missing value check\n",
    "print(f\"\\nmissing values: {round(((df.isna().sum().sum())/len(df))*100, 2)}% \\n{df.isna().sum()[df.isna().sum()>0]}\")\n",
    "\n",
    "# duplicated value\n",
    "print(f\"\\nduplicated values: {round(((df.duplicated(subset=\"EmployeeNumber\").sum())/len(df))*100,2)}% \\n{df.duplicated(subset=\"EmployeeNumber\").sum()}\\n\")\n",
    "\n",
    "# unique value counts\n",
    "for col in df:\n",
    "  print(col,'-#nunique: ',df[col].nunique())"
   ]
  },
  {
   "cell_type": "markdown",
   "metadata": {},
   "source": [
    "Dataset memiliki:\n",
    "- 1470 Baris yang dimulai dari 0 - 1469\n",
    "- 35 kolom dengan 18 kolom object dan 17 numerik, karena Ada beberapa kolom kategorikal ordinal seperti: 'Education', 'EnvironmentSatisfaction', 'JobInvolvement', 'JobSatisfaction', RelationshipSatisfaction, 'StockOptionLevel', dan 'WorkLifeBalance', 'PerformanceRating', 'JobLevel'\n",
    "- tipe data sudah sesuai denngan seharusnya. OK\n",
    "- nama kolom pada dataset terlihat normal dan konsisten. OK\n",
    "- tidak memiliki missing value maupun duplicate value. OK"
   ]
  },
  {
   "cell_type": "markdown",
   "metadata": {},
   "source": [
    "# Analisis dan perhitungan\n"
   ]
  },
  {
   "cell_type": "markdown",
   "metadata": {},
   "source": [
    "## berapa Rata-rata Attrition"
   ]
  },
  {
   "cell_type": "code",
   "execution_count": 7,
   "metadata": {},
   "outputs": [],
   "source": [
    "# replaye Yes-No dengan 1-0\n",
    "df_attrition = df.copy()\n",
    "df_attrition.replace({\"Yes\":1,'No':0},inplace=True)\n",
    "\n",
    "df_attrition['Attrition'].mean()\n",
    "\n",
    "# save attrition\n",
    "df_attrition[['EmployeeNumber','Attrition']].to_csv('attrition.csv',index=False)"
   ]
  },
  {
   "cell_type": "code",
   "execution_count": 8,
   "metadata": {},
   "outputs": [
    {
     "data": {
      "image/png": "[encoded data removed]",
      "text/plain": [
       "<Figure size 640x480 with 1 Axes>"
      ]
     },
     "metadata": {},
     "output_type": "display_data"
    }
   ],
   "source": [
    "# value counts\n",
    "attrition = df['Attrition'].value_counts()\n",
    "\n",
    "count = attrition.values\n",
    "label = attrition.index\n",
    "\n",
    "plt.pie(count, labels=label, \n",
    "        autopct='%1.1f%%',\n",
    "        colors=['lightblue','gold'])\n",
    "plt.title('Attrition Rate')\n",
    "plt.axis('equal')\n",
    "plt.show()"
   ]
  },
  {
   "cell_type": "markdown",
   "metadata": {},
   "source": [
    "rata-rata turnover karyawan adalah 0.16 atau 16.12% yang mana angka tersebut cukup tinggi. turn over yang ideal dalam sebuah perusahaan berkisar antara 10-12%."
   ]
  },
  {
   "cell_type": "markdown",
   "metadata": {},
   "source": [
    "## Apakah Environment Satisfaction Berpengaruh Terhadap Attrition\n",
    "\n",
    "H0:Environment satisfaction tidak mempengaruhi employee attrition<br>\n",
    "H1: Environment satisfaction mempengaruhi employee attrition\n",
    "\n",
    "uji Chi Square karena kategorikal-kaetgorikal variable."
   ]
  },
  {
   "cell_type": "code",
   "execution_count": 9,
   "metadata": {},
   "outputs": [
    {
     "name": "stdout",
     "output_type": "stream",
     "text": [
      "P Value :  5.1234689062894205e-05\n",
      "H0 berhasil ditolak: Environment satisfaction mempengaruhi employee attrition\n"
     ]
    }
   ],
   "source": [
    "# calculate chisquare\n",
    "chi2, p_value, dof, expected = chi2square(df,'EnvironmentSatisfaction','Attrition')\n",
    "\n",
    "# besar pvalue\n",
    "print('P Value : ',p_value)\n",
    "\n",
    "# Interpretasi hasil\n",
    "# kondisi tolak H0\n",
    "if p_value < 0.05:\n",
    "    print('H0 berhasil ditolak: Environment satisfaction mempengaruhi employee attrition')\n",
    "# kondisi gagal tolak H0\n",
    "else:\n",
    "    print('H0 gagal ditolak: Environment satisfaction tidak mempengaruhi employee attrition')"
   ]
  },
  {
   "cell_type": "markdown",
   "metadata": {},
   "source": [
    "## Bagaimana Pengaruh Environment Satisfaction Terhadap Attrition"
   ]
  },
  {
   "cell_type": "code",
   "execution_count": 10,
   "metadata": {},
   "outputs": [
    {
     "data": {
      "text/html": [
       "<div>\n",
       "<style scoped>\n",
       "    .dataframe tbody tr th:only-of-type {\n",
       "        vertical-align: middle;\n",
       "    }\n",
       "\n",
       "    .dataframe tbody tr th {\n",
       "        vertical-align: top;\n",
       "    }\n",
       "\n",
       "    .dataframe thead th {\n",
       "        text-align: right;\n",
       "    }\n",
       "</style>\n",
       "<table border=\"1\" class=\"dataframe\">\n",
       "  <thead>\n",
       "    <tr style=\"text-align: right;\">\n",
       "      <th>Attrition</th>\n",
       "      <th>No</th>\n",
       "      <th>Yes</th>\n",
       "      <th>Rate</th>\n",
       "    </tr>\n",
       "    <tr>\n",
       "      <th>EnvironmentSatisfaction</th>\n",
       "      <th></th>\n",
       "      <th></th>\n",
       "      <th></th>\n",
       "    </tr>\n",
       "  </thead>\n",
       "  <tbody>\n",
       "    <tr>\n",
       "      <th>1</th>\n",
       "      <td>212</td>\n",
       "      <td>72</td>\n",
       "      <td>25.352113</td>\n",
       "    </tr>\n",
       "    <tr>\n",
       "      <th>2</th>\n",
       "      <td>244</td>\n",
       "      <td>43</td>\n",
       "      <td>14.982578</td>\n",
       "    </tr>\n",
       "    <tr>\n",
       "      <th>3</th>\n",
       "      <td>391</td>\n",
       "      <td>62</td>\n",
       "      <td>13.686534</td>\n",
       "    </tr>\n",
       "    <tr>\n",
       "      <th>4</th>\n",
       "      <td>386</td>\n",
       "      <td>60</td>\n",
       "      <td>13.452915</td>\n",
       "    </tr>\n",
       "  </tbody>\n",
       "</table>\n",
       "</div>"
      ],
      "text/plain": [
       "Attrition                 No  Yes       Rate\n",
       "EnvironmentSatisfaction                     \n",
       "1                        212   72  25.352113\n",
       "2                        244   43  14.982578\n",
       "3                        391   62  13.686534\n",
       "4                        386   60  13.452915"
      ]
     },
     "execution_count": 10,
     "metadata": {},
     "output_type": "execute_result"
    }
   ],
   "source": [
    "# melihat cross tabulation\n",
    "cross_table = crosstable(df,'EnvironmentSatisfaction','Attrition')\n",
    "\n",
    "# calculate rate\n",
    "cross_table['Rate'] = (cross_table['Yes'] / (cross_table['Yes'] + cross_table['No']))*100\n",
    "\n",
    "# save\n",
    "cross_table.to_csv('ct_EnvironmentSatisfaction.csv')\n",
    "\n",
    "# show crosstable\n",
    "cross_table"
   ]
  },
  {
   "cell_type": "markdown",
   "metadata": {},
   "source": [
    "dapat dilihat bahwa 25% karyawan turnover karena tidak senang dengan lingkungan kerjanya"
   ]
  },
  {
   "cell_type": "code",
   "execution_count": 11,
   "metadata": {},
   "outputs": [
    {
     "data": {
      "text/plain": [
       "Text(0, 0.5, 'Rate (%)')"
      ]
     },
     "execution_count": 11,
     "metadata": {},
     "output_type": "execute_result"
    },
    {
     "data": {
      "image/png": "[encoded data removed]",
      "text/plain": [
       "<Figure size 640x480 with 1 Axes>"
      ]
     },
     "metadata": {},
     "output_type": "display_data"
    }
   ],
   "source": [
    "# sort\n",
    "cross_table.sort_values('Rate', ascending=True).reset_index(drop=True)\n",
    "\n",
    "# barplot\n",
    "cross_table['Rate'].plot(kind='bar', stacked=False)\n",
    "\n",
    "# atribut\n",
    "plt.ylabel('Rate (%)')"
   ]
  },
  {
   "cell_type": "markdown",
   "metadata": {},
   "source": [
    "pegawai yang turnover kebanyakan memiliki tingkat kepuasan 1. kebanyakan pegawai turnover karena tidak puas dengan lingkungannya"
   ]
  },
  {
   "cell_type": "markdown",
   "metadata": {},
   "source": [
    "## Apakah Job Satisfaction Berpengaruh Terhadap Attrition\n",
    "\n",
    "H0: Job Satisfaction tidak mempengaruhi employee attrition<br>\n",
    "H1: Job Satisfaction mempengaruhi employee attrition\n",
    "\n",
    "uji Chi Square karena kategorikal-kaetgorikal variable."
   ]
  },
  {
   "cell_type": "code",
   "execution_count": 12,
   "metadata": {},
   "outputs": [
    {
     "name": "stdout",
     "output_type": "stream",
     "text": [
      "P Value :  0.0005563004510387556\n",
      "H0 berhasil ditolak: Job Satisfaction mempengaruhi employee attrition\n"
     ]
    }
   ],
   "source": [
    "# calculate chisquare\n",
    "chi2, p_value, dof, expected = chi2square(df,'JobSatisfaction','Attrition')\n",
    "\n",
    "# besar pvalue\n",
    "print('P Value : ',p_value)\n",
    "\n",
    "# Interpretasi hasil\n",
    "# kondisi tolak H0\n",
    "if p_value < 0.05:\n",
    "    print('H0 berhasil ditolak: Job Satisfaction mempengaruhi employee attrition')\n",
    "# kondisi gagal tolak H0\n",
    "else:\n",
    "    print('H0 gagal ditolak: Job Satisfaction tidak mempengaruhi employee attrition')"
   ]
  },
  {
   "cell_type": "markdown",
   "metadata": {},
   "source": [
    "## Bagaimana Pengaruh Job Satisfaction Terhadap Attrition"
   ]
  },
  {
   "cell_type": "code",
   "execution_count": 13,
   "metadata": {},
   "outputs": [
    {
     "data": {
      "text/html": [
       "<div>\n",
       "<style scoped>\n",
       "    .dataframe tbody tr th:only-of-type {\n",
       "        vertical-align: middle;\n",
       "    }\n",
       "\n",
       "    .dataframe tbody tr th {\n",
       "        vertical-align: top;\n",
       "    }\n",
       "\n",
       "    .dataframe thead th {\n",
       "        text-align: right;\n",
       "    }\n",
       "</style>\n",
       "<table border=\"1\" class=\"dataframe\">\n",
       "  <thead>\n",
       "    <tr style=\"text-align: right;\">\n",
       "      <th>Attrition</th>\n",
       "      <th>No</th>\n",
       "      <th>Yes</th>\n",
       "      <th>Rate</th>\n",
       "    </tr>\n",
       "    <tr>\n",
       "      <th>JobSatisfaction</th>\n",
       "      <th></th>\n",
       "      <th></th>\n",
       "      <th></th>\n",
       "    </tr>\n",
       "  </thead>\n",
       "  <tbody>\n",
       "    <tr>\n",
       "      <th>1</th>\n",
       "      <td>223</td>\n",
       "      <td>66</td>\n",
       "      <td>22.837370</td>\n",
       "    </tr>\n",
       "    <tr>\n",
       "      <th>2</th>\n",
       "      <td>234</td>\n",
       "      <td>46</td>\n",
       "      <td>16.428571</td>\n",
       "    </tr>\n",
       "    <tr>\n",
       "      <th>3</th>\n",
       "      <td>369</td>\n",
       "      <td>73</td>\n",
       "      <td>16.515837</td>\n",
       "    </tr>\n",
       "    <tr>\n",
       "      <th>4</th>\n",
       "      <td>407</td>\n",
       "      <td>52</td>\n",
       "      <td>11.328976</td>\n",
       "    </tr>\n",
       "  </tbody>\n",
       "</table>\n",
       "</div>"
      ],
      "text/plain": [
       "Attrition         No  Yes       Rate\n",
       "JobSatisfaction                     \n",
       "1                223   66  22.837370\n",
       "2                234   46  16.428571\n",
       "3                369   73  16.515837\n",
       "4                407   52  11.328976"
      ]
     },
     "execution_count": 13,
     "metadata": {},
     "output_type": "execute_result"
    }
   ],
   "source": [
    "# melihat cross tabulation\n",
    "cross_table = crosstable(df,'JobSatisfaction','Attrition')\n",
    "\n",
    "# calculate rate\n",
    "cross_table['Rate'] = (cross_table['Yes'] / (cross_table['Yes'] + cross_table['No']))*100\n",
    "\n",
    "# save\n",
    "cross_table.to_csv('ct_JobSatisfaction.csv')\n",
    "\n",
    "# show crosstable\n",
    "cross_table"
   ]
  },
  {
   "cell_type": "markdown",
   "metadata": {},
   "source": [
    "dapat dilihat bahwa 22% karyawan turnover karena tidak senang dengan pekerjaannya"
   ]
  },
  {
   "cell_type": "code",
   "execution_count": 14,
   "metadata": {},
   "outputs": [
    {
     "data": {
      "text/plain": [
       "Text(0, 0.5, 'Rate (%)')"
      ]
     },
     "execution_count": 14,
     "metadata": {},
     "output_type": "execute_result"
    },
    {
     "data": {
      "image/png": "[encoded data removed]",
      "text/plain": [
       "<Figure size 640x480 with 1 Axes>"
      ]
     },
     "metadata": {},
     "output_type": "display_data"
    }
   ],
   "source": [
    "# sort\n",
    "cross_table.sort_values('Rate', ascending=True).reset_index(drop=True)\n",
    "\n",
    "# barplot\n",
    "cross_table['Rate'].plot(kind='bar', stacked=False)\n",
    "\n",
    "# atribut\n",
    "plt.ylabel('Rate (%)')\n"
   ]
  },
  {
   "cell_type": "markdown",
   "metadata": {},
   "source": [
    "pegawai yang turnover kebanyakan memiliki tingkat kepuasan 1. kebanyakan pegawai turnover karena tidak puas dengan pekerjaannya"
   ]
  },
  {
   "cell_type": "markdown",
   "metadata": {},
   "source": [
    "## Apakah Relationship Satisfaction Berpengaruh Terhadap Attrition\n",
    "\n",
    "H0: Relationship Satisfaction tidak mempengaruhi employee attrition<br>\n",
    "H1: relationship Satisfaction mempengaruhi employee attrition\n",
    "\n",
    "uji Chi Square karena kategorikal-kaetgorikal variable."
   ]
  },
  {
   "cell_type": "code",
   "execution_count": 15,
   "metadata": {},
   "outputs": [
    {
     "name": "stdout",
     "output_type": "stream",
     "text": [
      "P Value :  0.15497244371052638\n",
      "H0 gagal ditolak: Relationship Satisfaction tidak mempengaruhi employee attrition\n"
     ]
    }
   ],
   "source": [
    "# calculate chisquare\n",
    "chi2, p_value, dof, expected = chi2square(df,'RelationshipSatisfaction','Attrition')\n",
    "\n",
    "# besar pvalue\n",
    "print('P Value : ',p_value)\n",
    "\n",
    "# Interpretasi hasil\n",
    "# kondisi tolak H0\n",
    "if p_value < 0.05:\n",
    "    print('H0 berhasil ditolak: Relationship Satisfaction mempengaruhi employee attrition')\n",
    "# kondisi gagal tolak H0\n",
    "else:\n",
    "    print('H0 gagal ditolak: Relationship Satisfaction tidak mempengaruhi employee attrition')"
   ]
  },
  {
   "cell_type": "markdown",
   "metadata": {},
   "source": [
    "## Bagaimana Pengaruh Relationship Satisfaction Terhadap Attrition"
   ]
  },
  {
   "cell_type": "code",
   "execution_count": 16,
   "metadata": {},
   "outputs": [
    {
     "data": {
      "text/html": [
       "<div>\n",
       "<style scoped>\n",
       "    .dataframe tbody tr th:only-of-type {\n",
       "        vertical-align: middle;\n",
       "    }\n",
       "\n",
       "    .dataframe tbody tr th {\n",
       "        vertical-align: top;\n",
       "    }\n",
       "\n",
       "    .dataframe thead th {\n",
       "        text-align: right;\n",
       "    }\n",
       "</style>\n",
       "<table border=\"1\" class=\"dataframe\">\n",
       "  <thead>\n",
       "    <tr style=\"text-align: right;\">\n",
       "      <th>Attrition</th>\n",
       "      <th>No</th>\n",
       "      <th>Yes</th>\n",
       "      <th>Rate</th>\n",
       "    </tr>\n",
       "    <tr>\n",
       "      <th>RelationshipSatisfaction</th>\n",
       "      <th></th>\n",
       "      <th></th>\n",
       "      <th></th>\n",
       "    </tr>\n",
       "  </thead>\n",
       "  <tbody>\n",
       "    <tr>\n",
       "      <th>1</th>\n",
       "      <td>219</td>\n",
       "      <td>57</td>\n",
       "      <td>20.652174</td>\n",
       "    </tr>\n",
       "    <tr>\n",
       "      <th>2</th>\n",
       "      <td>258</td>\n",
       "      <td>45</td>\n",
       "      <td>14.851485</td>\n",
       "    </tr>\n",
       "    <tr>\n",
       "      <th>3</th>\n",
       "      <td>388</td>\n",
       "      <td>71</td>\n",
       "      <td>15.468410</td>\n",
       "    </tr>\n",
       "    <tr>\n",
       "      <th>4</th>\n",
       "      <td>368</td>\n",
       "      <td>64</td>\n",
       "      <td>14.814815</td>\n",
       "    </tr>\n",
       "  </tbody>\n",
       "</table>\n",
       "</div>"
      ],
      "text/plain": [
       "Attrition                  No  Yes       Rate\n",
       "RelationshipSatisfaction                     \n",
       "1                         219   57  20.652174\n",
       "2                         258   45  14.851485\n",
       "3                         388   71  15.468410\n",
       "4                         368   64  14.814815"
      ]
     },
     "execution_count": 16,
     "metadata": {},
     "output_type": "execute_result"
    }
   ],
   "source": [
    "# melihat cross tabulation\n",
    "cross_table = crosstable(df,'RelationshipSatisfaction','Attrition')\n",
    "\n",
    "# calculate rate\n",
    "cross_table['Rate'] = (cross_table['Yes'] / (cross_table['Yes'] + cross_table['No']))*100\n",
    "\n",
    "# save\n",
    "cross_table.to_csv('ct_RelationshipSatisfaction.csv')\n",
    "\n",
    "# show crosstable\n",
    "cross_table"
   ]
  },
  {
   "cell_type": "markdown",
   "metadata": {},
   "source": [
    "dapat dilihat bahwa 20% karyawan turnover karena tidak senang dengan hubungan dengan rekan kerjanya"
   ]
  },
  {
   "cell_type": "code",
   "execution_count": 17,
   "metadata": {},
   "outputs": [
    {
     "data": {
      "text/plain": [
       "Text(0, 0.5, 'Rate (%)')"
      ]
     },
     "execution_count": 17,
     "metadata": {},
     "output_type": "execute_result"
    },
    {
     "data": {
      "image/png": "[encoded data removed]",
      "text/plain": [
       "<Figure size 640x480 with 1 Axes>"
      ]
     },
     "metadata": {},
     "output_type": "display_data"
    }
   ],
   "source": [
    "# sort\n",
    "cross_table.sort_values('Rate', ascending=True).reset_index(drop=True)\n",
    "\n",
    "# barplot\n",
    "cross_table['Rate'].plot(kind='bar', stacked=False)\n",
    "\n",
    "# atribut\n",
    "plt.ylabel('Rate (%)')\n"
   ]
  },
  {
   "cell_type": "markdown",
   "metadata": {},
   "source": [
    "pegawai yang turnover kebanyakan memiliki tingkat kepuasan 1. kebanyakan pegawai turnover karena tidak puas dengan hubungan dengan rekan kerjanya"
   ]
  },
  {
   "cell_type": "markdown",
   "metadata": {},
   "source": [
    "## Apakah Work-Life Balance Berpengaruh Terhadap Attrition\n",
    "\n",
    "H0: Work-Life Balance tidak mempengaruhi employee attrition<br>\n",
    "H1: Work-Life Balance mempengaruhi employee attrition\n",
    "\n",
    "uji Chi Square karena kategorikal-kaetgorikal variable."
   ]
  },
  {
   "cell_type": "code",
   "execution_count": 18,
   "metadata": {},
   "outputs": [
    {
     "name": "stdout",
     "output_type": "stream",
     "text": [
      "P Value :  0.15497244371052638\n",
      "H0 gagal ditolak: Work-Life Balance tidak mempengaruhi employee attrition\n"
     ]
    }
   ],
   "source": [
    "# calculate chisquare\n",
    "chi2square(df,'WorkLifeBalance','Attrition')\n",
    "\n",
    "# besar pvalue\n",
    "print('P Value : ',p_value)\n",
    "\n",
    "# Interpretasi hasil\n",
    "# kondisi tolak H0\n",
    "if p_value < 0.05:\n",
    "    print('H0 berhasil ditolak: Work-Life Balance mempengaruhi employee attrition')\n",
    "# kondisi gagal tolak H0\n",
    "else:\n",
    "    print('H0 gagal ditolak: Work-Life Balance tidak mempengaruhi employee attrition')"
   ]
  },
  {
   "cell_type": "markdown",
   "metadata": {},
   "source": [
    "## Bagaimana Pengaruh Work-Life Balance Terhadap Attrition"
   ]
  },
  {
   "cell_type": "code",
   "execution_count": 19,
   "metadata": {},
   "outputs": [
    {
     "data": {
      "text/html": [
       "<div>\n",
       "<style scoped>\n",
       "    .dataframe tbody tr th:only-of-type {\n",
       "        vertical-align: middle;\n",
       "    }\n",
       "\n",
       "    .dataframe tbody tr th {\n",
       "        vertical-align: top;\n",
       "    }\n",
       "\n",
       "    .dataframe thead th {\n",
       "        text-align: right;\n",
       "    }\n",
       "</style>\n",
       "<table border=\"1\" class=\"dataframe\">\n",
       "  <thead>\n",
       "    <tr style=\"text-align: right;\">\n",
       "      <th>Attrition</th>\n",
       "      <th>No</th>\n",
       "      <th>Yes</th>\n",
       "      <th>Rate</th>\n",
       "    </tr>\n",
       "    <tr>\n",
       "      <th>WorkLifeBalance</th>\n",
       "      <th></th>\n",
       "      <th></th>\n",
       "      <th></th>\n",
       "    </tr>\n",
       "  </thead>\n",
       "  <tbody>\n",
       "    <tr>\n",
       "      <th>1</th>\n",
       "      <td>55</td>\n",
       "      <td>25</td>\n",
       "      <td>31.250000</td>\n",
       "    </tr>\n",
       "    <tr>\n",
       "      <th>2</th>\n",
       "      <td>286</td>\n",
       "      <td>58</td>\n",
       "      <td>16.860465</td>\n",
       "    </tr>\n",
       "    <tr>\n",
       "      <th>3</th>\n",
       "      <td>766</td>\n",
       "      <td>127</td>\n",
       "      <td>14.221725</td>\n",
       "    </tr>\n",
       "    <tr>\n",
       "      <th>4</th>\n",
       "      <td>126</td>\n",
       "      <td>27</td>\n",
       "      <td>17.647059</td>\n",
       "    </tr>\n",
       "  </tbody>\n",
       "</table>\n",
       "</div>"
      ],
      "text/plain": [
       "Attrition         No  Yes       Rate\n",
       "WorkLifeBalance                     \n",
       "1                 55   25  31.250000\n",
       "2                286   58  16.860465\n",
       "3                766  127  14.221725\n",
       "4                126   27  17.647059"
      ]
     },
     "execution_count": 19,
     "metadata": {},
     "output_type": "execute_result"
    }
   ],
   "source": [
    "# melihat cross tabulation\n",
    "cross_table = crosstable(df,'WorkLifeBalance','Attrition')\n",
    "\n",
    "# calculate rate\n",
    "cross_table['Rate'] = (cross_table['Yes'] / (cross_table['Yes'] + cross_table['No']))*100\n",
    "\n",
    "# save\n",
    "cross_table.to_csv('ct_WorkLifeBalance.csv')\n",
    "\n",
    "# show crosstable\n",
    "cross_table"
   ]
  },
  {
   "cell_type": "markdown",
   "metadata": {},
   "source": [
    "dapat dilihat bahwa 31% karyawan turnover karena tidak senang dengan work-life balance yang ada"
   ]
  },
  {
   "cell_type": "code",
   "execution_count": 20,
   "metadata": {},
   "outputs": [
    {
     "data": {
      "text/plain": [
       "Text(0, 0.5, 'Rate (%)')"
      ]
     },
     "execution_count": 20,
     "metadata": {},
     "output_type": "execute_result"
    },
    {
     "data": {
      "image/png": "[encoded data removed]",
      "text/plain": [
       "<Figure size 640x480 with 1 Axes>"
      ]
     },
     "metadata": {},
     "output_type": "display_data"
    }
   ],
   "source": [
    "# sort\n",
    "cross_table.sort_values('Rate', ascending=True).reset_index(drop=True)\n",
    "\n",
    "# barplot\n",
    "cross_table['Rate'].plot(kind='bar', stacked=False)\n",
    "\n",
    "# atribut\n",
    "plt.ylabel('Rate (%)')\n"
   ]
  },
  {
   "cell_type": "markdown",
   "metadata": {},
   "source": [
    "pegawai yang turnover kebanyakan memiliki tingkat kepuasan 1. kebanyakan pegawai turnover karena tidak puas work-life balance yang ada"
   ]
  },
  {
   "cell_type": "markdown",
   "metadata": {},
   "source": [
    "## Bagaimana Pengaruh Lama Bekerja di Perusahaan terhadap Attrition"
   ]
  },
  {
   "cell_type": "code",
   "execution_count": 22,
   "metadata": {},
   "outputs": [
    {
     "data": {
      "image/png": "[encoded data removed]",
      "text/plain": [
       "<Figure size 640x480 with 1 Axes>"
      ]
     },
     "metadata": {},
     "output_type": "display_data"
    }
   ],
   "source": [
    "fig, ax = plt.subplots()\n",
    "fig.set_facecolor('#89e798')  # Set figure background color\n",
    "\n",
    "# Create the histogram and set the color palette\n",
    "sns.histplot(data=df, x='YearsAtCompany', hue='Attrition', kde=True, \n",
    "             palette={'Yes': 'orange', 'No': 'gray'}, ax=ax)\n",
    "\n",
    "# Set the background color for the axes (plot area)\n",
    "ax.set_facecolor('#89e798')\n",
    "\n",
    "# Display the plot\n",
    "plt.show()"
   ]
  },
  {
   "cell_type": "markdown",
   "metadata": {},
   "source": [
    "lamanya karyawan bekerja untuk perusahaan mempengaruhi Attrition karyawan, dimana semakin lama karyawan tersebut bekerja untuk perusahaan maka semakin rendah kemungkinan untuk meninggalkan perusahaan. malahan kebanyakan karyawan yang mengalami attrition adalah karyawan yang baru bekerja kurang dari 6 tahun di perusahaan"
   ]
  },
  {
   "cell_type": "markdown",
   "metadata": {},
   "source": [
    "# Kesimpulan"
   ]
  },
  {
   "cell_type": "markdown",
   "metadata": {},
   "source": [
    "persentase attrition adalah 16% yang mana angka tersebut cukup besar dimana sebagian besar pekerja mengalami Attrition dikarenakan oleh ketidakpuasan pada pekerjaannya, lingkungan kerjanya, hubungan dengan rekan kerjanya dan work-life balance yang ditunjukkan oleh pemberian nilai 1 pada kategori-kategori tersebut yang menyatakan ketidak puasan. Hal tersebut menandakan perusahaan memiliki budaya kerja yang buruk. \n",
    "\n",
    "Selain itu, lama waktu mengabdi pada perusahaan juga mempengaruhi Attrition, dimana pekerja-pekerja yang masih kurang dari 6 tahun bersama perusahaan cenderung mengalami Attrition. hal tersebut kemungkinan disebabkan oleh budaya kerja yang buruk tersebut"
   ]
  },
  {
   "cell_type": "markdown",
   "metadata": {},
   "source": [
    "# Rekomendasi"
   ]
  },
  {
   "cell_type": "markdown",
   "metadata": {},
   "source": [
    "untuk dapat mengurangi persentase attrition, rekomendasi yang saya berikan:\n",
    "1. memperbaiki budaya kerja (work-life balance, relationship, environment, job satisfaction) untuk meningkatkan satisfaction score\n",
    "2. lakukan survey satisfaction secara berkala\n",
    "3. fokus pada karyawan baru untuk membantunya beradaptasi\n",
    "4. meningkatkan komunikasi antara manajer dan karyawan"
   ]
  }
 ],
 "metadata": {
  "kernelspec": {
   "display_name": "base",
   "language": "python",
   "name": "python3"
  },
  "language_info": {
   "codemirror_mode": {
    "name": "ipython",
    "version": 3
   },
   "file_extension": ".py",
   "mimetype": "text/x-python",
   "name": "python",
   "nbconvert_exporter": "python",
   "pygments_lexer": "ipython3",
   "version": "3.12.4"
  }
 },
 "nbformat": 4,
 "nbformat_minor": 2
}
